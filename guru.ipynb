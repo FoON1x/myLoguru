{
 "cells": [
  {
   "cell_type": "code",
   "execution_count": 1,
   "id": "5320dda0",
   "metadata": {},
   "outputs": [],
   "source": [
    "from loguru import logger"
   ]
  },
  {
   "cell_type": "code",
   "execution_count": 3,
   "id": "e3861b89",
   "metadata": {},
   "outputs": [
    {
     "name": "stderr",
     "output_type": "stream",
     "text": [
      "\u001b[32m2025-08-18 19:21:09.617\u001b[0m | \u001b[34m\u001b[1mDEBUG   \u001b[0m | \u001b[36m__main__\u001b[0m:\u001b[36m<module>\u001b[0m:\u001b[36m2\u001b[0m - \u001b[34m\u001b[1mdebug msg\u001b[0m\n",
      "\u001b[32m2025-08-18 19:21:09.618\u001b[0m | \u001b[1mINFO    \u001b[0m | \u001b[36m__main__\u001b[0m:\u001b[36m<module>\u001b[0m:\u001b[36m3\u001b[0m - \u001b[1minfo msg\u001b[0m\n",
      "\u001b[32m2025-08-18 19:21:09.619\u001b[0m | \u001b[32m\u001b[1mSUCCESS \u001b[0m | \u001b[36m__main__\u001b[0m:\u001b[36m<module>\u001b[0m:\u001b[36m4\u001b[0m - \u001b[32m\u001b[1msuccess msg\u001b[0m\n",
      "\u001b[32m2025-08-18 19:21:09.620\u001b[0m | \u001b[33m\u001b[1mWARNING \u001b[0m | \u001b[36m__main__\u001b[0m:\u001b[36m<module>\u001b[0m:\u001b[36m5\u001b[0m - \u001b[33m\u001b[1mwarning msg\u001b[0m\n",
      "\u001b[32m2025-08-18 19:21:09.620\u001b[0m | \u001b[31m\u001b[1mERROR   \u001b[0m | \u001b[36m__main__\u001b[0m:\u001b[36m<module>\u001b[0m:\u001b[36m6\u001b[0m - \u001b[31m\u001b[1merror msg\u001b[0m\n",
      "\u001b[32m2025-08-18 19:21:09.621\u001b[0m | \u001b[41m\u001b[1mCRITICAL\u001b[0m | \u001b[36m__main__\u001b[0m:\u001b[36m<module>\u001b[0m:\u001b[36m7\u001b[0m - \u001b[41m\u001b[1mcritical msg\u001b[0m\n"
     ]
    }
   ],
   "source": [
    "logger.trace('trace msg')\n",
    "logger.debug('debug msg')\n",
    "logger.info('info msg')\n",
    "logger.success('success msg')\n",
    "logger.warning('warning msg')\n",
    "logger.error('error msg')\n",
    "logger.critical('critical msg')"
   ]
  },
  {
   "cell_type": "code",
   "execution_count": 7,
   "id": "b810f7e8",
   "metadata": {},
   "outputs": [
    {
     "name": "stdout",
     "output_type": "stream",
     "text": [
      "\u001b[32m2025-08-18 19:23:03.012\u001b[0m | \u001b[31m\u001b[1mERROR   \u001b[0m | \u001b[36m__main__\u001b[0m:\u001b[36m<module>\u001b[0m:\u001b[36m12\u001b[0m - \u001b[31m\u001b[1merror msg\u001b[0m\n",
      "\u001b[32m2025-08-18 19:23:03.013\u001b[0m | \u001b[41m\u001b[1mCRITICAL\u001b[0m | \u001b[36m__main__\u001b[0m:\u001b[36m<module>\u001b[0m:\u001b[36m13\u001b[0m - \u001b[41m\u001b[1mcritical msg\u001b[0m\n"
     ]
    }
   ],
   "source": [
    "# logger.remove()\n",
    "import sys\n",
    "logger.remove()\n",
    "logger.add(sys.stdout, level='ERROR')\n",
    "# logger.remove(handler)\n",
    "\n",
    "logger.trace('trace msg')\n",
    "logger.debug('debug msg')\n",
    "logger.info('info msg')\n",
    "logger.success('success msg')\n",
    "logger.warning('warning msg')\n",
    "logger.error('error msg')\n",
    "logger.critical('critical msg')"
   ]
  }
 ],
 "metadata": {
  "kernelspec": {
   "display_name": "loguru-study (3.10.2)",
   "language": "python",
   "name": "python3"
  },
  "language_info": {
   "codemirror_mode": {
    "name": "ipython",
    "version": 3
   },
   "file_extension": ".py",
   "mimetype": "text/x-python",
   "name": "python",
   "nbconvert_exporter": "python",
   "pygments_lexer": "ipython3",
   "version": "3.10.2"
  }
 },
 "nbformat": 4,
 "nbformat_minor": 5
}
