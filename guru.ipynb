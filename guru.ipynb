{
 "cells": [
  {
   "cell_type": "markdown",
   "id": "eb7242dd",
   "metadata": {},
   "source": [
    "# myLoguru"
   ]
  },
  {
   "cell_type": "code",
   "execution_count": 1,
   "id": "5320dda0",
   "metadata": {},
   "outputs": [],
   "source": [
    "# loguru与logging一样使用logger对象\n",
    "# 相较于logging, loguru更加强大且便捷\n",
    "from loguru import logger"
   ]
  },
  {
   "cell_type": "markdown",
   "id": "3c70f25f",
   "metadata": {},
   "source": [
    "## 基本使用"
   ]
  },
  {
   "cell_type": "markdown",
   "id": "3810d329",
   "metadata": {},
   "source": [
    "### 分级"
   ]
  },
  {
   "cell_type": "code",
   "execution_count": 2,
   "id": "e3861b89",
   "metadata": {},
   "outputs": [
    {
     "name": "stderr",
     "output_type": "stream",
     "text": [
      "\u001b[32m2025-08-18 20:34:09.511\u001b[0m | \u001b[34m\u001b[1mDEBUG   \u001b[0m | \u001b[36m__main__\u001b[0m:\u001b[36mguru\u001b[0m:\u001b[36m5\u001b[0m - \u001b[34m\u001b[1mdebug msg\u001b[0m\n",
      "\u001b[32m2025-08-18 20:34:09.513\u001b[0m | \u001b[1mINFO    \u001b[0m | \u001b[36m__main__\u001b[0m:\u001b[36mguru\u001b[0m:\u001b[36m6\u001b[0m - \u001b[1minfo msg\u001b[0m\n",
      "\u001b[32m2025-08-18 20:34:09.514\u001b[0m | \u001b[32m\u001b[1mSUCCESS \u001b[0m | \u001b[36m__main__\u001b[0m:\u001b[36mguru\u001b[0m:\u001b[36m7\u001b[0m - \u001b[32m\u001b[1msuccess msg\u001b[0m\n",
      "\u001b[32m2025-08-18 20:34:09.515\u001b[0m | \u001b[33m\u001b[1mWARNING \u001b[0m | \u001b[36m__main__\u001b[0m:\u001b[36mguru\u001b[0m:\u001b[36m8\u001b[0m - \u001b[33m\u001b[1mwarning msg\u001b[0m\n",
      "\u001b[32m2025-08-18 20:34:09.516\u001b[0m | \u001b[31m\u001b[1mERROR   \u001b[0m | \u001b[36m__main__\u001b[0m:\u001b[36mguru\u001b[0m:\u001b[36m9\u001b[0m - \u001b[31m\u001b[1merror msg\u001b[0m\n",
      "\u001b[32m2025-08-18 20:34:09.517\u001b[0m | \u001b[41m\u001b[1mCRITICAL\u001b[0m | \u001b[36m__main__\u001b[0m:\u001b[36mguru\u001b[0m:\u001b[36m10\u001b[0m - \u001b[41m\u001b[1mcritical msg\u001b[0m\n"
     ]
    }
   ],
   "source": [
    "# loguru共有七个等级\n",
    "# 分别为：trace, debug, info, success, warning, error, critical\n",
    "def guru():\n",
    "    logger.trace('trace msg')\n",
    "    logger.debug('debug msg')\n",
    "    logger.info('info msg')\n",
    "    logger.success('success msg')\n",
    "    logger.warning('warning msg')\n",
    "    logger.error('error msg')\n",
    "    logger.critical('critical msg')\n",
    "guru()"
   ]
  },
  {
   "cell_type": "markdown",
   "id": "18eb99fa",
   "metadata": {},
   "source": [
    "### remove和add"
   ]
  },
  {
   "cell_type": "code",
   "execution_count": null,
   "id": "cb80b737",
   "metadata": {},
   "outputs": [],
   "source": [
    "# .remove()用于清除默认设置（如默认在console输出）\n",
    "logger.remove()\n",
    "# .add()是loguru中一个强大的方法，可以用于添加自定义设定\n",
    "# 注意：add只会“添加”设定，而非“替换”。如需，可使用remove清除原本的设定\n",
    "logger.add('msg.log', level=\"ERROR\") # level指定显示内容\n",
    "guru()"
   ]
  },
  {
   "cell_type": "code",
   "execution_count": null,
   "id": "0bdcfd88",
   "metadata": {},
   "outputs": [],
   "source": [
    "# 此外,.add()会返回对应的handle_id，可使用remove(handle_id)进行移除\n",
    "logger.remove()\n",
    "import sys  # sys.stdout指定logger在console中输出\n",
    "handle_id = logger.add(sys.stdout, level=\"ERROR\")\n",
    "# 移除设定后，这段代码什么都不会做\n",
    "logger.remove(handle_id)\n",
    "guru()"
   ]
  },
  {
   "cell_type": "code",
   "execution_count": null,
   "id": "b810f7e8",
   "metadata": {},
   "outputs": [
    {
     "name": "stdout",
     "output_type": "stream",
     "text": [
      "\u001b[32m2025-08-18 20:34:09.542\u001b[0m | \u001b[31m\u001b[1mERROR   \u001b[0m | \u001b[36m__main__\u001b[0m:\u001b[36m<module>\u001b[0m:\u001b[36m12\u001b[0m - \u001b[31m\u001b[1merror msg\u001b[0m\n",
      "\u001b[32m2025-08-18 20:34:09.543\u001b[0m | \u001b[41m\u001b[1mCRITICAL\u001b[0m | \u001b[36m__main__\u001b[0m:\u001b[36m<module>\u001b[0m:\u001b[36m13\u001b[0m - \u001b[41m\u001b[1mcritical msg\u001b[0m\n"
     ]
    }
   ],
   "source": []
  }
 ],
 "metadata": {
  "kernelspec": {
   "display_name": "loguru-study (3.10.2)",
   "language": "python",
   "name": "python3"
  },
  "language_info": {
   "codemirror_mode": {
    "name": "ipython",
    "version": 3
   },
   "file_extension": ".py",
   "mimetype": "text/x-python",
   "name": "python",
   "nbconvert_exporter": "python",
   "pygments_lexer": "ipython3",
   "version": "3.10.2"
  }
 },
 "nbformat": 4,
 "nbformat_minor": 5
}
